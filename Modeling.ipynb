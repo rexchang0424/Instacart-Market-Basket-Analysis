{
 "cells": [
  {
   "cell_type": "code",
   "execution_count": 79,
   "metadata": {},
   "outputs": [],
   "source": [
    "import pandas as pd\n",
    "import time\n",
    "import numpy as np\n",
    "from sklearn.preprocessing import StandardScaler\n",
    "from sklearn.model_selection import train_test_split, GridSearchCV\n",
    "from sklearn.linear_model import LogisticRegression\n",
    "from sklearn.metrics import mean_squared_error, f1_score\n",
    "from sklearn.metrics import confusion_matrix\n",
    "from sklearn.tree import DecisionTreeClassifier\n",
    "from sklearn.ensemble import RandomForestClassifier"
   ]
  },
  {
   "cell_type": "markdown",
   "metadata": {},
   "source": [
    "## Import DataSet"
   ]
  },
  {
   "cell_type": "code",
   "execution_count": 3,
   "metadata": {},
   "outputs": [],
   "source": [
    "order_products_prior    = pd.read_csv('../datas/order_products__prior.csv')\n",
    "aisles_df               = pd.read_csv('../datas/aisles.csv')\n",
    "departments_df          = pd.read_csv('../datas/departments.csv')\n",
    "orders_df               = pd.read_csv('../datas/orders.csv')\n",
    "products_df             = pd.read_csv('../datas/products.csv')\n",
    "order_products_train    = pd.read_csv('../datas/order_products__train_cap.csv')"
   ]
  },
  {
   "cell_type": "code",
   "execution_count": 92,
   "metadata": {},
   "outputs": [],
   "source": [
    "user_feautres           = pd.read_csv('../datas/user_features.csv')"
   ]
  },
  {
   "cell_type": "markdown",
   "metadata": {},
   "source": [
    "This will be my training data. I will merge the product_df and departments_df and aisles_df's Ids into my final_train. Then I will perform a Train_Test_split "
   ]
  },
  {
   "cell_type": "code",
   "execution_count": 93,
   "metadata": {},
   "outputs": [
    {
     "data": {
      "text/html": [
       "<div>\n",
       "<style scoped>\n",
       "    .dataframe tbody tr th:only-of-type {\n",
       "        vertical-align: middle;\n",
       "    }\n",
       "\n",
       "    .dataframe tbody tr th {\n",
       "        vertical-align: top;\n",
       "    }\n",
       "\n",
       "    .dataframe thead th {\n",
       "        text-align: right;\n",
       "    }\n",
       "</style>\n",
       "<table border=\"1\" class=\"dataframe\">\n",
       "  <thead>\n",
       "    <tr style=\"text-align: right;\">\n",
       "      <th></th>\n",
       "      <th>order_id</th>\n",
       "      <th>product_id</th>\n",
       "      <th>add_to_cart_order</th>\n",
       "      <th>reordered</th>\n",
       "      <th>product_name</th>\n",
       "      <th>aisle_id</th>\n",
       "      <th>department_id</th>\n",
       "      <th>department</th>\n",
       "      <th>aisle</th>\n",
       "      <th>user_id</th>\n",
       "      <th>eval_set</th>\n",
       "      <th>order_number</th>\n",
       "      <th>order_dow</th>\n",
       "      <th>order_hour_of_day</th>\n",
       "      <th>days_since_prior_order</th>\n",
       "      <th>total_order</th>\n",
       "      <th>total_product</th>\n",
       "      <th>days_since_last_order</th>\n",
       "      <th>dow_average</th>\n",
       "    </tr>\n",
       "  </thead>\n",
       "  <tbody>\n",
       "    <tr>\n",
       "      <th>0</th>\n",
       "      <td>36</td>\n",
       "      <td>39612</td>\n",
       "      <td>1</td>\n",
       "      <td>0</td>\n",
       "      <td>Grated Pecorino Romano Cheese</td>\n",
       "      <td>2</td>\n",
       "      <td>16</td>\n",
       "      <td>dairy eggs</td>\n",
       "      <td>specialty cheeses</td>\n",
       "      <td>79431</td>\n",
       "      <td>train</td>\n",
       "      <td>23</td>\n",
       "      <td>6</td>\n",
       "      <td>18</td>\n",
       "      <td>30.0</td>\n",
       "      <td>22</td>\n",
       "      <td>187</td>\n",
       "      <td>15.0</td>\n",
       "      <td>3.181818</td>\n",
       "    </tr>\n",
       "    <tr>\n",
       "      <th>1</th>\n",
       "      <td>36</td>\n",
       "      <td>19660</td>\n",
       "      <td>2</td>\n",
       "      <td>1</td>\n",
       "      <td>Spring Water</td>\n",
       "      <td>115</td>\n",
       "      <td>7</td>\n",
       "      <td>beverages</td>\n",
       "      <td>water seltzer sparkling water</td>\n",
       "      <td>79431</td>\n",
       "      <td>train</td>\n",
       "      <td>23</td>\n",
       "      <td>6</td>\n",
       "      <td>18</td>\n",
       "      <td>30.0</td>\n",
       "      <td>22</td>\n",
       "      <td>187</td>\n",
       "      <td>15.0</td>\n",
       "      <td>3.181818</td>\n",
       "    </tr>\n",
       "    <tr>\n",
       "      <th>2</th>\n",
       "      <td>36</td>\n",
       "      <td>49235</td>\n",
       "      <td>3</td>\n",
       "      <td>0</td>\n",
       "      <td>Organic Half &amp; Half</td>\n",
       "      <td>53</td>\n",
       "      <td>16</td>\n",
       "      <td>dairy eggs</td>\n",
       "      <td>cream</td>\n",
       "      <td>79431</td>\n",
       "      <td>train</td>\n",
       "      <td>23</td>\n",
       "      <td>6</td>\n",
       "      <td>18</td>\n",
       "      <td>30.0</td>\n",
       "      <td>22</td>\n",
       "      <td>187</td>\n",
       "      <td>15.0</td>\n",
       "      <td>3.181818</td>\n",
       "    </tr>\n",
       "    <tr>\n",
       "      <th>3</th>\n",
       "      <td>36</td>\n",
       "      <td>43086</td>\n",
       "      <td>4</td>\n",
       "      <td>1</td>\n",
       "      <td>Super Greens Salad</td>\n",
       "      <td>123</td>\n",
       "      <td>4</td>\n",
       "      <td>produce</td>\n",
       "      <td>packaged vegetables fruits</td>\n",
       "      <td>79431</td>\n",
       "      <td>train</td>\n",
       "      <td>23</td>\n",
       "      <td>6</td>\n",
       "      <td>18</td>\n",
       "      <td>30.0</td>\n",
       "      <td>22</td>\n",
       "      <td>187</td>\n",
       "      <td>15.0</td>\n",
       "      <td>3.181818</td>\n",
       "    </tr>\n",
       "    <tr>\n",
       "      <th>4</th>\n",
       "      <td>36</td>\n",
       "      <td>46620</td>\n",
       "      <td>5</td>\n",
       "      <td>1</td>\n",
       "      <td>Cage Free Extra Large Grade AA Eggs</td>\n",
       "      <td>86</td>\n",
       "      <td>16</td>\n",
       "      <td>dairy eggs</td>\n",
       "      <td>eggs</td>\n",
       "      <td>79431</td>\n",
       "      <td>train</td>\n",
       "      <td>23</td>\n",
       "      <td>6</td>\n",
       "      <td>18</td>\n",
       "      <td>30.0</td>\n",
       "      <td>22</td>\n",
       "      <td>187</td>\n",
       "      <td>15.0</td>\n",
       "      <td>3.181818</td>\n",
       "    </tr>\n",
       "  </tbody>\n",
       "</table>\n",
       "</div>"
      ],
      "text/plain": [
       "   order_id  product_id  add_to_cart_order  reordered  \\\n",
       "0        36       39612                  1          0   \n",
       "1        36       19660                  2          1   \n",
       "2        36       49235                  3          0   \n",
       "3        36       43086                  4          1   \n",
       "4        36       46620                  5          1   \n",
       "\n",
       "                          product_name  aisle_id  department_id  department  \\\n",
       "0        Grated Pecorino Romano Cheese         2             16  dairy eggs   \n",
       "1                         Spring Water       115              7   beverages   \n",
       "2                  Organic Half & Half        53             16  dairy eggs   \n",
       "3                   Super Greens Salad       123              4     produce   \n",
       "4  Cage Free Extra Large Grade AA Eggs        86             16  dairy eggs   \n",
       "\n",
       "                           aisle  user_id eval_set  order_number  order_dow  \\\n",
       "0              specialty cheeses    79431    train            23          6   \n",
       "1  water seltzer sparkling water    79431    train            23          6   \n",
       "2                          cream    79431    train            23          6   \n",
       "3     packaged vegetables fruits    79431    train            23          6   \n",
       "4                           eggs    79431    train            23          6   \n",
       "\n",
       "   order_hour_of_day  days_since_prior_order  total_order  total_product  \\\n",
       "0                 18                    30.0           22            187   \n",
       "1                 18                    30.0           22            187   \n",
       "2                 18                    30.0           22            187   \n",
       "3                 18                    30.0           22            187   \n",
       "4                 18                    30.0           22            187   \n",
       "\n",
       "   days_since_last_order  dow_average  \n",
       "0                   15.0     3.181818  \n",
       "1                   15.0     3.181818  \n",
       "2                   15.0     3.181818  \n",
       "3                   15.0     3.181818  \n",
       "4                   15.0     3.181818  "
      ]
     },
     "execution_count": 93,
     "metadata": {},
     "output_type": "execute_result"
    }
   ],
   "source": [
    "final_train = order_products_train.merge(products_df, how='left', on='product_id')\n",
    "final_train = final_train.merge(departments_df, how='left', on='department_id')\n",
    "final_train = final_train.merge(aisles_df, how='left', on='aisle_id')\n",
    "final_train = final_train.merge(orders_df, how='left', on='order_id')\n",
    "final_train = final_train.merge(user_feautres, how='left', on='user_id')\n",
    "final_train.head()"
   ]
  },
  {
   "cell_type": "markdown",
   "metadata": {},
   "source": [
    "Asigning my X and y variable"
   ]
  },
  {
   "cell_type": "code",
   "execution_count": 106,
   "metadata": {},
   "outputs": [],
   "source": [
    "X = final_train.drop(columns=['reordered'\n",
    "                              ,'product_name'\n",
    "                              ,'department'\n",
    "                              ,'aisle'\n",
    "                              ,'eval_set'])\n",
    "y = final_train['reordered']"
   ]
  },
  {
   "cell_type": "markdown",
   "metadata": {},
   "source": [
    "Before performing train_test_split, it is crucial to check the rows are matched"
   ]
  },
  {
   "cell_type": "code",
   "execution_count": 107,
   "metadata": {},
   "outputs": [
    {
     "data": {
      "text/plain": [
       "(1038515, 14)"
      ]
     },
     "execution_count": 107,
     "metadata": {},
     "output_type": "execute_result"
    }
   ],
   "source": [
    "X.shape"
   ]
  },
  {
   "cell_type": "code",
   "execution_count": 108,
   "metadata": {},
   "outputs": [
    {
     "data": {
      "text/plain": [
       "(1038515, 19)"
      ]
     },
     "execution_count": 108,
     "metadata": {},
     "output_type": "execute_result"
    }
   ],
   "source": [
    "final_train.shape"
   ]
  },
  {
   "cell_type": "markdown",
   "metadata": {},
   "source": [
    "## Baseline Model\n",
    "**What is this?**\n",
    "- This is our baseline model. The 1's represent there are 59.8861% of which means reordered (positive class) and 40.1139% of didn't reordered (negative class) in our dataset. This is good, because this tells us that our model is pretty evenly distributed.  Our base goal is to fit our data into several models and get the accuracy score that is higher than **59.8861%**. In that case, we will know we are doing better than the baseline."
   ]
  },
  {
   "cell_type": "code",
   "execution_count": 109,
   "metadata": {},
   "outputs": [
    {
     "data": {
      "text/plain": [
       "1    0.598861\n",
       "0    0.401139\n",
       "Name: reordered, dtype: float64"
      ]
     },
     "execution_count": 109,
     "metadata": {},
     "output_type": "execute_result"
    }
   ],
   "source": [
    "y.value_counts(normalize=True)"
   ]
  },
  {
   "cell_type": "markdown",
   "metadata": {},
   "source": [
    "## Train_test_split"
   ]
  },
  {
   "cell_type": "code",
   "execution_count": 110,
   "metadata": {},
   "outputs": [],
   "source": [
    "X_train, X_test, y_train, y_test = train_test_split(X, y, random_state=42)"
   ]
  },
  {
   "cell_type": "markdown",
   "metadata": {},
   "source": [
    "## Machine Learning Model: Logistic Regression\n",
    "---"
   ]
  },
  {
   "cell_type": "markdown",
   "metadata": {},
   "source": [
    "\n",
    "**Why/why not this model?**\n",
    "- I've used Grid Search to perform different parameter of C, and in result 1.0 gave the best result. \n",
    "- The parameter C is the the inverse of regularization strength in Logistic Regression. \n",
    "- The reason why I choose this model as my final, our expectation for our model is high accuracy. In this case the Logistic Regression's result gave us an accuracy of **64.189%**, which is higher than Random Forest Classifier's accuracy. \n",
    "- Not only the accuracy is higher than Random Forest Classifier, but also performed better than our Baseline model.\n"
   ]
  },
  {
   "cell_type": "code",
   "execution_count": 111,
   "metadata": {},
   "outputs": [],
   "source": [
    "params = {'C': [1.0, 2.0, 3.0, 4.0]}"
   ]
  },
  {
   "cell_type": "code",
   "execution_count": 112,
   "metadata": {},
   "outputs": [
    {
     "name": "stdout",
     "output_type": "stream",
     "text": [
      "Time Spent: 49 Seconds\n"
     ]
    }
   ],
   "source": [
    "start_time = time.time()\n",
    "gs_lr = GridSearchCV(LogisticRegression(random_state=42, solver='lbfgs'), \n",
    "                  param_grid=params, \n",
    "                  return_train_score=False,\n",
    "                  cv=5)\n",
    "gs_lr.fit(X_train, y_train.values.ravel())\n",
    "print(f'Time Spent: {round((time.time()-start_time))} Seconds')"
   ]
  },
  {
   "cell_type": "code",
   "execution_count": 113,
   "metadata": {},
   "outputs": [
    {
     "data": {
      "text/plain": [
       "{'C': 1.0}"
      ]
     },
     "execution_count": 113,
     "metadata": {},
     "output_type": "execute_result"
    }
   ],
   "source": [
    "gs_lr.best_params_"
   ]
  },
  {
   "cell_type": "code",
   "execution_count": 114,
   "metadata": {},
   "outputs": [
    {
     "data": {
      "text/plain": [
       "0.6418988144606528"
      ]
     },
     "execution_count": 114,
     "metadata": {},
     "output_type": "execute_result"
    }
   ],
   "source": [
    "gs_lr.score(X_train, y_train)"
   ]
  },
  {
   "cell_type": "code",
   "execution_count": 115,
   "metadata": {},
   "outputs": [
    {
     "data": {
      "text/plain": [
       "0.6425245253804467"
      ]
     },
     "execution_count": 115,
     "metadata": {},
     "output_type": "execute_result"
    }
   ],
   "source": [
    "gs_lr.score(X_test, y_test)"
   ]
  },
  {
   "cell_type": "code",
   "execution_count": 116,
   "metadata": {},
   "outputs": [
    {
     "name": "stdout",
     "output_type": "stream",
     "text": [
      "True Negatives: 42939\n",
      "False Positives: 60947\n",
      "False Negatives: 31864\n",
      "True Positives: 123879\n"
     ]
    }
   ],
   "source": [
    "predictions_lr = gs_lr.predict(X_test)\n",
    "tn, fp, fn, tp = confusion_matrix(y_test, predictions_lr).ravel()\n",
    "print(\"True Negatives: %s\" % tn)\n",
    "print(\"False Positives: %s\" % fp)\n",
    "print(\"False Negatives: %s\" % fn)\n",
    "print(\"True Positives: %s\" % tp)"
   ]
  },
  {
   "cell_type": "code",
   "execution_count": 130,
   "metadata": {},
   "outputs": [],
   "source": [
    "predictions = gs_lr.predict(X)"
   ]
  },
  {
   "cell_type": "code",
   "execution_count": 131,
   "metadata": {},
   "outputs": [
    {
     "data": {
      "text/plain": [
       "0.7268670062726444"
      ]
     },
     "execution_count": 131,
     "metadata": {},
     "output_type": "execute_result"
    }
   ],
   "source": [
    "f1_score(y, predictions)"
   ]
  },
  {
   "cell_type": "markdown",
   "metadata": {},
   "source": [
    "## Machine Learning Model: Random Forest Classifier\n",
    "---\n",
    "\n",
    "**Why/why not this model?**\n",
    "- I've used Grid Search to perform different parameter of Min_sample_split, and max_depth in result it gave the best result. of max_depth of None and min_samples_split of 1.0, Due to the compute time, I can only minimize to 2 parameters. With more time and compute power, I am sure I can find a higher accuracy.\n",
    "- The reason why I did not choose this model as my final, because to be able to interpret if a model is good the accuracy if a key, our expectation for our model is high accuracy. In this case the Random Forest Classifier's result gave us an accuracy of **59.825%**, which is lower than Logistic Regression's accuracy.\n"
   ]
  },
  {
   "cell_type": "code",
   "execution_count": 124,
   "metadata": {},
   "outputs": [],
   "source": [
    "params = {\n",
    "    'min_samples_split': [1.0,0.5],\n",
    "    'max_depth': [None,1]\n",
    "}"
   ]
  },
  {
   "cell_type": "code",
   "execution_count": 125,
   "metadata": {},
   "outputs": [
    {
     "name": "stdout",
     "output_type": "stream",
     "text": [
      "Time Spent: 137 Seconds\n"
     ]
    }
   ],
   "source": [
    "start_time = time.time()\n",
    "gs = GridSearchCV(RandomForestClassifier(n_estimators=100), \n",
    "                  param_grid=params, \n",
    "                  return_train_score=False,\n",
    "                  cv=3)\n",
    "gs.fit(X_train, y_train.values.ravel())\n",
    "print(f'Time Spent: {round((time.time()-start_time))} Seconds')"
   ]
  },
  {
   "cell_type": "code",
   "execution_count": 126,
   "metadata": {},
   "outputs": [
    {
     "data": {
      "text/plain": [
       "0.598525329765845"
      ]
     },
     "execution_count": 126,
     "metadata": {},
     "output_type": "execute_result"
    }
   ],
   "source": [
    "gs.score(X_train, y_train.values.ravel())"
   ]
  },
  {
   "cell_type": "code",
   "execution_count": 127,
   "metadata": {},
   "outputs": [
    {
     "data": {
      "text/plain": [
       "0.599867503245015"
      ]
     },
     "execution_count": 127,
     "metadata": {},
     "output_type": "execute_result"
    }
   ],
   "source": [
    "gs.score(X_test, y_test)"
   ]
  },
  {
   "cell_type": "code",
   "execution_count": 128,
   "metadata": {},
   "outputs": [
    {
     "data": {
      "text/plain": [
       "{'max_depth': None, 'min_samples_split': 1.0}"
      ]
     },
     "execution_count": 128,
     "metadata": {},
     "output_type": "execute_result"
    }
   ],
   "source": [
    "gs.best_params_"
   ]
  }
 ],
 "metadata": {
  "kernelspec": {
   "display_name": "Python 3",
   "language": "python",
   "name": "python3"
  },
  "language_info": {
   "codemirror_mode": {
    "name": "ipython",
    "version": 3
   },
   "file_extension": ".py",
   "mimetype": "text/x-python",
   "name": "python",
   "nbconvert_exporter": "python",
   "pygments_lexer": "ipython3",
   "version": "3.6.6"
  }
 },
 "nbformat": 4,
 "nbformat_minor": 2
}
